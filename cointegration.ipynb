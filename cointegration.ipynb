{
 "cells": [
  {
   "cell_type": "code",
   "execution_count": 98,
   "metadata": {},
   "outputs": [
    {
     "data": {
      "text/html": [
       "<script>\n",
       "code_show=true; \n",
       "function code_toggle() {\n",
       " if (code_show){\n",
       " $('div.input').hide();\n",
       " } else {\n",
       " $('div.input').show();\n",
       " }\n",
       " code_show = !code_show\n",
       "} \n",
       "$( document ).ready(code_toggle);\n",
       "</script>\n",
       "<form action=\"javascript:code_toggle()\"><input type=\"submit\" value=\"Click here to toggle on/off the raw code.\"></form>"
      ],
      "text/plain": [
       "<IPython.core.display.HTML object>"
      ]
     },
     "execution_count": 98,
     "metadata": {},
     "output_type": "execute_result"
    }
   ],
   "source": [
    "from IPython.display import HTML\n",
    "\n",
    "HTML('''<script>\n",
    "code_show=true; \n",
    "function code_toggle() {\n",
    " if (code_show){\n",
    " $('div.input').hide();\n",
    " } else {\n",
    " $('div.input').show();\n",
    " }\n",
    " code_show = !code_show\n",
    "} \n",
    "$( document ).ready(code_toggle);\n",
    "</script>\n",
    "<form action=\"javascript:code_toggle()\"><input type=\"submit\" value=\"Click here to toggle on/off the raw code.\"></form>''')"
   ]
  },
  {
   "cell_type": "code",
   "execution_count": 97,
   "metadata": {},
   "outputs": [],
   "source": [
    "import pandas as pd\n",
    "import numpy as np\n",
    "import matplotlib.pyplot as plt\n",
    "import seaborn as sns\n",
    "\n",
    "from IPython.display import display, Markdown, Latex\n",
    "\n",
    "def print_markdown(x):\n",
    "    display(Markdown(x))\n",
    "\n",
    "import os"
   ]
  },
  {
   "cell_type": "markdown",
   "metadata": {},
   "source": [
    "# 1. Data preprocessing"
   ]
  },
  {
   "cell_type": "code",
   "execution_count": 8,
   "metadata": {},
   "outputs": [],
   "source": [
    "xls = pd.ExcelFile('cac40.xls')"
   ]
  },
  {
   "cell_type": "code",
   "execution_count": 11,
   "metadata": {},
   "outputs": [
    {
     "data": {
      "text/plain": [
       "['Poids', 'Données quotidiennes', 'Données Bloomberg']"
      ]
     },
     "execution_count": 11,
     "metadata": {},
     "output_type": "execute_result"
    }
   ],
   "source": [
    "xls.sheet_names"
   ]
  },
  {
   "cell_type": "markdown",
   "metadata": {},
   "source": [
    "## Components' weigthts"
   ]
  },
  {
   "cell_type": "code",
   "execution_count": 50,
   "metadata": {},
   "outputs": [],
   "source": [
    "df = [pd.read_excel(xls,(xls.sheet_names)[i]) for i in range(3)]"
   ]
  },
  {
   "cell_type": "code",
   "execution_count": 51,
   "metadata": {},
   "outputs": [],
   "source": [
    "df_weight = df[0].iloc[:,[0,2]]"
   ]
  },
  {
   "cell_type": "markdown",
   "metadata": {},
   "source": [
    "## Stocks' price data"
   ]
  },
  {
   "cell_type": "code",
   "execution_count": 61,
   "metadata": {},
   "outputs": [
    {
     "data": {
      "text/markdown": [
       "**Columns who have null values**: ['Credit Agricole SA' 'Electricite de France' 'Gaz de France SA' 'Suez SA']"
      ],
      "text/plain": [
       "<IPython.core.display.Markdown object>"
      ]
     },
     "metadata": {},
     "output_type": "display_data"
    }
   ],
   "source": [
    "display(Markdown(\"**Columns who have null values**: \"+str(((df[1].columns)[(df[1]).isnull().any()]).values)))"
   ]
  },
  {
   "cell_type": "code",
   "execution_count": 96,
   "metadata": {},
   "outputs": [
    {
     "data": {
      "text/markdown": [
       "**Number of null data for each stock**:"
      ],
      "text/plain": [
       "<IPython.core.display.Markdown object>"
      ]
     },
     "metadata": {},
     "output_type": "display_data"
    },
    {
     "data": {
      "text/plain": [
       "Credit Agricole SA        247\n",
       "Electricite de France    1273\n",
       "Gaz de France SA         1177\n",
       "Suez SA                  1970\n",
       "dtype: int64"
      ]
     },
     "execution_count": 96,
     "metadata": {},
     "output_type": "execute_result"
    }
   ],
   "source": [
    "print_markdown (\"**Number of null data for each stock**:\")\n",
    "np.sum((df[1].loc[:,df[1].columns[(df[1].isnull().any())]]).isnull())"
   ]
  },
  {
   "cell_type": "markdown",
   "metadata": {},
   "source": [
    "- Totall we have 2396 days' data, we need to delete these stocks who have null data and redefine a new index"
   ]
  },
  {
   "cell_type": "code",
   "execution_count": 118,
   "metadata": {},
   "outputs": [],
   "source": [
    "df_price = (df[1].dropna(axis=1)).set_index(\"Date\")"
   ]
  },
  {
   "cell_type": "markdown",
   "metadata": {},
   "source": [
    "## BBG data"
   ]
  },
  {
   "cell_type": "code",
   "execution_count": 197,
   "metadata": {},
   "outputs": [
    {
     "name": "stderr",
     "output_type": "stream",
     "text": [
      "/Users/shancheng/venv/lib/python3.7/site-packages/ipykernel_launcher.py:2: SettingWithCopyWarning: \n",
      "A value is trying to be set on a copy of a slice from a DataFrame.\n",
      "Try using .loc[row_indexer,col_indexer] = value instead\n",
      "\n",
      "See the caveats in the documentation: https://pandas.pydata.org/pandas-docs/stable/user_guide/indexing.html#returning-a-view-versus-a-copy\n",
      "  \n",
      "/Users/shancheng/venv/lib/python3.7/site-packages/ipykernel_launcher.py:3: SettingWithCopyWarning: \n",
      "A value is trying to be set on a copy of a slice from a DataFrame\n",
      "\n",
      "See the caveats in the documentation: https://pandas.pydata.org/pandas-docs/stable/user_guide/indexing.html#returning-a-view-versus-a-copy\n",
      "  This is separate from the ipykernel package so we can avoid doing imports until\n",
      "/Users/shancheng/venv/lib/python3.7/site-packages/IPython/core/interactiveshell.py:3331: SettingWithCopyWarning: \n",
      "A value is trying to be set on a copy of a slice from a DataFrame\n",
      "\n",
      "See the caveats in the documentation: https://pandas.pydata.org/pandas-docs/stable/user_guide/indexing.html#returning-a-view-versus-a-copy\n",
      "  exec(code_obj, self.user_global_ns, self.user_ns)\n"
     ]
    }
   ],
   "source": [
    "df4= df3.xs(\"PX_LAST\",axis = 1, level = 1)\n",
    "df4[\"Date\"]= df3[\"CAC Index\"][\"Date\"]\n",
    "df4[\"Date\"][0]=pd.Timestamp('2001-01-01')\n",
    "\n",
    "cols = df4.columns.to_list()\n",
    "cols = cols[-1:] + cols[:-1]\n",
    "\n",
    "df4=df4[cols]"
   ]
  },
  {
   "cell_type": "code",
   "execution_count": 198,
   "metadata": {},
   "outputs": [
    {
     "data": {
      "text/markdown": [
       "**Columns who have null values**: ['ACA FP Equity' 'EDF FP Equity' 'GSZ FP Equity' 'SEV FP Equity']"
      ],
      "text/plain": [
       "<IPython.core.display.Markdown object>"
      ]
     },
     "metadata": {},
     "output_type": "display_data"
    }
   ],
   "source": [
    "display(Markdown(\"**Columns who have null values**: \"+str(((df4.columns)[(df4).isnull().any()]).values)))"
   ]
  },
  {
   "cell_type": "code",
   "execution_count": 199,
   "metadata": {},
   "outputs": [
    {
     "data": {
      "text/markdown": [
       "**Number of null data for each stock**:"
      ],
      "text/plain": [
       "<IPython.core.display.Markdown object>"
      ]
     },
     "metadata": {},
     "output_type": "display_data"
    },
    {
     "data": {
      "text/plain": [
       "ACA FP Equity     248\n",
       "EDF FP Equity    1274\n",
       "GSZ FP Equity    1178\n",
       "SEV FP Equity    1971\n",
       "dtype: int64"
      ]
     },
     "execution_count": 199,
     "metadata": {},
     "output_type": "execute_result"
    }
   ],
   "source": [
    "print_markdown (\"**Number of null data for each stock**:\")\n",
    "np.sum((df4.loc[:,df4.columns[(df4.isnull().any())]]).isnull())"
   ]
  },
  {
   "cell_type": "code",
   "execution_count": 203,
   "metadata": {},
   "outputs": [],
   "source": [
    "df_bbg = df4.set_index(\"Date\")"
   ]
  },
  {
   "cell_type": "code",
   "execution_count": 206,
   "metadata": {},
   "outputs": [
    {
     "data": {
      "text/plain": [
       "42"
      ]
     },
     "execution_count": 206,
     "metadata": {},
     "output_type": "execute_result"
    }
   ],
   "source": [
    "len(df_bbg.columns)"
   ]
  },
  {
   "cell_type": "code",
   "execution_count": 207,
   "metadata": {},
   "outputs": [
    {
     "data": {
      "text/plain": [
       "37"
      ]
     },
     "execution_count": 207,
     "metadata": {},
     "output_type": "execute_result"
    }
   ],
   "source": [
    "len(df_price.columns)"
   ]
  },
  {
   "cell_type": "code",
   "execution_count": 208,
   "metadata": {},
   "outputs": [
    {
     "data": {
      "text/plain": [
       "set()"
      ]
     },
     "execution_count": 208,
     "metadata": {},
     "output_type": "execute_result"
    }
   ],
   "source": [
    "set(df_bbg.columns).intersection(set(df_price.columns))"
   ]
  },
  {
   "cell_type": "code",
   "execution_count": 211,
   "metadata": {},
   "outputs": [
    {
     "data": {
      "text/plain": [
       "Index(['CAC 40', 'Accor SA', 'Air Liquide', 'Alcatel-Lucent', 'Alstom',\n",
       "       'Arcelor Mittal', 'AXA SA', 'BNP Paribas', 'Bouygues', 'Cap Gemini SA',\n",
       "       'Carrefour SA', 'Groupe Danone', 'Dexia SA', 'EADS',\n",
       "       'Essilor International SA', 'France Telecom SA', 'L'Oreal SA',\n",
       "       'Lafarge SA', 'Lagardere SCA', 'LVMH Moet Hennessy Louis Vuitton SA',\n",
       "       'Michelin', 'Pernod-Ricard SA', 'Peugeot SA', 'PPR', 'Renault SA',\n",
       "       'Cie de Saint-Gobain', 'Sanofi-Aventis SA', 'Schneider Electric SA',\n",
       "       'Societe Generale', 'STMicroelectronics NV', 'Total SA',\n",
       "       'Unibail-Rodamco', 'Vallourec', 'Veolia Environnement', 'Vinci SA',\n",
       "       'Vivendi', 'Tecnip'],\n",
       "      dtype='object')"
      ]
     },
     "execution_count": 211,
     "metadata": {},
     "output_type": "execute_result"
    }
   ],
   "source": [
    "df_price.columns"
   ]
  },
  {
   "cell_type": "code",
   "execution_count": 212,
   "metadata": {},
   "outputs": [
    {
     "data": {
      "text/plain": [
       "Index(['CAC Index', 'AC FP Equity', 'AF FP Equity', 'AI FP Equity',\n",
       "       'ALU FP Equity', 'ALO FP Equity', 'MT NA Equity', 'CS FP Equity',\n",
       "       'BNP FP Equity', 'EN FP Equity', 'CAP FP Equity', 'CA FP Equity',\n",
       "       'ACA FP Equity', 'BN FP Equity', 'DEXB BB Equity', 'EAD FP Equity',\n",
       "       'EDF FP Equity', 'EI FP Equity', 'FTE FP Equity', 'GSZ FP Equity',\n",
       "       'OR FP Equity', 'LG FP Equity', 'MMB FP Equity', 'MC FP Equity',\n",
       "       'ML FP Equity', 'RI FP Equity', 'UG FP Equity', 'PP FP Equity',\n",
       "       'RNO FP Equity', 'SGO FP Equity', 'SAN FP Equity', 'SU FP Equity',\n",
       "       'GLE FP Equity', 'STM FP Equity', 'SEV FP Equity', 'FP FP Equity',\n",
       "       'UL FP Equity', 'VK FP Equity', 'VIE FP Equity', 'DG FP Equity',\n",
       "       'VIV FP Equity', 'TEC FP Equity'],\n",
       "      dtype='object')"
      ]
     },
     "execution_count": 212,
     "metadata": {},
     "output_type": "execute_result"
    }
   ],
   "source": [
    "df_bbg.columns"
   ]
  },
  {
   "cell_type": "code",
   "execution_count": 217,
   "metadata": {},
   "outputs": [],
   "source": [
    "df_weight.to_csv(\"data/weights.csv\")\n",
    "df_price.to_csv\"da"
   ]
  },
  {
   "cell_type": "code",
   "execution_count": null,
   "metadata": {},
   "outputs": [],
   "source": []
  }
 ],
 "metadata": {
  "kernelspec": {
   "display_name": "Python 3",
   "language": "python",
   "name": "python3"
  },
  "language_info": {
   "codemirror_mode": {
    "name": "ipython",
    "version": 3
   },
   "file_extension": ".py",
   "mimetype": "text/x-python",
   "name": "python",
   "nbconvert_exporter": "python",
   "pygments_lexer": "ipython3",
   "version": "3.7.3"
  },
  "toc": {
   "base_numbering": 1,
   "nav_menu": {},
   "number_sections": true,
   "sideBar": true,
   "skip_h1_title": false,
   "title_cell": "Table of Contents",
   "title_sidebar": "Contents",
   "toc_cell": false,
   "toc_position": {},
   "toc_section_display": true,
   "toc_window_display": false
  }
 },
 "nbformat": 4,
 "nbformat_minor": 4
}
